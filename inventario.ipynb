{
 "cells": [
  {
   "cell_type": "markdown",
   "id": "5330105f",
   "metadata": {},
   "source": [
    "        Tratando dados do levantamento físico e banco de dados Suap"
   ]
  },
  {
   "cell_type": "code",
   "execution_count": 26,
   "id": "66f0a51f",
   "metadata": {},
   "outputs": [
    {
     "name": "stdout",
     "output_type": "stream",
     "text": [
      "<class 'pandas.core.frame.DataFrame'>\n",
      "RangeIndex: 3890 entries, 0 to 3889\n",
      "Data columns (total 4 columns):\n",
      " #   Column            Non-Null Count  Dtype \n",
      "---  ------            --------------  ----- \n",
      " 0   SALA_priori       3890 non-null   object\n",
      " 1   NUMERO            3890 non-null   int64 \n",
      " 2   DESCRICAO_priori  3890 non-null   object\n",
      " 3   ED_priori         3890 non-null   object\n",
      "dtypes: int64(1), object(3)\n",
      "memory usage: 121.7+ KB\n"
     ]
    },
    {
     "data": {
      "text/plain": [
       "None"
      ]
     },
     "metadata": {},
     "output_type": "display_data"
    },
    {
     "name": "stdout",
     "output_type": "stream",
     "text": [
      "priori completo info\n",
      "<class 'pandas.core.frame.DataFrame'>\n",
      "RangeIndex: 8014 entries, 0 to 8013\n",
      "Data columns (total 4 columns):\n",
      " #   Column            Non-Null Count  Dtype \n",
      "---  ------            --------------  ----- \n",
      " 0   NUMERO            8014 non-null   int64 \n",
      " 1   DESCRICAO_priori  8014 non-null   object\n",
      " 2   ED_priori         8014 non-null   object\n",
      " 3   SALA_priori       8014 non-null   object\n",
      "dtypes: int64(1), object(3)\n",
      "memory usage: 250.6+ KB\n"
     ]
    },
    {
     "data": {
      "text/plain": [
       "None"
      ]
     },
     "metadata": {},
     "output_type": "display_data"
    },
    {
     "name": "stdout",
     "output_type": "stream",
     "text": [
      "<class 'pandas.core.frame.DataFrame'>\n",
      "Int64Index: 8249 entries, 0 to 3889\n",
      "Data columns (total 4 columns):\n",
      " #   Column            Non-Null Count  Dtype \n",
      "---  ------            --------------  ----- \n",
      " 0   NUMERO            8249 non-null   int64 \n",
      " 1   DESCRICAO_priori  8249 non-null   object\n",
      " 2   ED_priori         8249 non-null   object\n",
      " 3   SALA_priori       8249 non-null   object\n",
      "dtypes: int64(1), object(3)\n",
      "memory usage: 322.2+ KB\n"
     ]
    },
    {
     "data": {
      "text/plain": [
       "None"
      ]
     },
     "metadata": {},
     "output_type": "display_data"
    },
    {
     "name": "stdout",
     "output_type": "stream",
     "text": [
      "priori sem livros info\n",
      "<class 'pandas.core.frame.DataFrame'>\n",
      "Int64Index: 3775 entries, 0 to 3889\n",
      "Data columns (total 4 columns):\n",
      " #   Column            Non-Null Count  Dtype \n",
      "---  ------            --------------  ----- \n",
      " 0   NUMERO            3775 non-null   int64 \n",
      " 1   DESCRICAO_priori  3775 non-null   object\n",
      " 2   ED_priori         3775 non-null   object\n",
      " 3   SALA_priori       3775 non-null   object\n",
      "dtypes: int64(1), object(3)\n",
      "memory usage: 147.5+ KB\n"
     ]
    },
    {
     "data": {
      "text/plain": [
       "None"
      ]
     },
     "metadata": {},
     "output_type": "display_data"
    }
   ],
   "source": [
    "import pandas as pd\n",
    "\n",
    "#total geral = 10061; total livros = 4706; total geral sem livros = 5355\n",
    "\n",
    "suap = pd.read_excel('suap.xlsx')\n",
    "suap = suap[['NUMERO', 'ED', 'DESCRICAO', 'CARGA ATUAL', 'SALA']]\n",
    "# print('suap info')\n",
    "# display(suap.info())\n",
    "\n",
    "priori= pd.read_excel('priori.xlsx')\n",
    "\n",
    "priori_parcial = pd.read_excel('prioriparcial.xlsx')\n",
    "priori_parcial = priori_parcial.rename(columns={'N° Ativo': 'NUMERO', 'Nome do custo': 'ED_priori', 'Descrição': 'DESCRICAO_priori',\n",
    "                               'Nome Local': 'SALA_priori'})\n",
    "priori_parcial = priori_parcial.drop(columns=['Estado do bem'])\n",
    "display(priori_parcial.info())\n",
    "priori_parcial = priori_parcial[['NUMERO', 'ED_priori', 'DESCRICAO_priori', 'SALA_priori']]\n",
    "\n",
    "priori = priori.rename(columns={'N° Ativo': 'NUMERO', 'Nome do custo': 'ED_priori', 'Descrição': 'DESCRICAO_priori',\n",
    "                               'Nome Local': 'SALA_priori'})\n",
    "priori = priori.drop(columns=['Local', 'Estado do bem', 'Nome Responsável'])\n",
    "print('priori completo info')\n",
    "display(priori.info())\n",
    "\n",
    "priori_total = pd.concat([priori, priori_parcial])\n",
    "priori_total = priori_total.drop_duplicates()\n",
    "\n",
    "display(priori_total.info())\n",
    "\n",
    "priori_livros = priori_total[priori_total['ED_priori'].str.contains('449052-18')]\n",
    "# print('priori livros info')\n",
    "# display(priori_livros.info())\n",
    "\n",
    "\n",
    "\n",
    "priori_total = priori_total[priori_total['ED_priori'].str.contains('449052-18')==False]\n",
    "print('priori sem livros info')\n",
    "display(priori_total.info())\n"
   ]
  },
  {
   "cell_type": "code",
   "execution_count": 29,
   "id": "4fb0e8ff",
   "metadata": {},
   "outputs": [],
   "source": [
    "livros1 = pd.read_table(\"parte 1 biblio.xls\")\n",
    "# display(livros1.info())\n",
    "livros2 = pd.read_table(\"parte 2 biblio.xls\")\n",
    "# display(livros2.info())\n",
    "livros3 = pd.read_table(\"parte 3 biblio.xls\")\n",
    "# display(livros3.info())\n",
    "livros4 = pd.read_table(\"parte 4 biblio.xls\")\n",
    "livros5 = pd.read_table(\"parte 5 biblio.xls\")\n",
    "\n",
    "suap_livros = pd.concat([livros1, livros2, livros3, livros4, livros5])\n",
    "suap_livros = suap_livros[['NUMERO', 'DESCRICAO', 'CARGA ATUAL']]\n",
    "# display(suap_livros.info())"
   ]
  },
  {
   "cell_type": "code",
   "execution_count": 31,
   "id": "ad3984ad",
   "metadata": {
    "scrolled": false
   },
   "outputs": [],
   "source": [
    "diferenca = pd.merge(suap, priori_total, on='NUMERO', how='outer', indicator=True)\n",
    "diferenca.to_excel('diferenca_total.xlsx', index=False)\n",
    "diferenca_SUAP = diferenca[diferenca['_merge'].str.contains('left_only')]\n",
    "# print(diferenca_SUAP.info())\n",
    "diferenca_SUAP.to_excel(\"diferenca_suap.xlsx\", index=False)"
   ]
  },
  {
   "cell_type": "code",
   "execution_count": 30,
   "id": "17eb1b4d",
   "metadata": {},
   "outputs": [],
   "source": [
    "diferenca_livros = pd.merge(suap_livros, priori_livros, on='NUMERO', how='outer', indicator=True)\n",
    "# display(diferenca_livros)\n",
    "diferenca_livros.to_excel('diferenca_livros.xlsx', index=False)\n",
    "\n",
    "diferenca_livros_suap = diferenca_livros[diferenca_livros['_merge'].str.contains('left_only')]\n",
    "# print(diferenca_livros_suap.info())\n",
    "\n",
    "diferenca_livros_priori = diferenca_livros[diferenca_livros['_merge'].str.contains('right_only')]\n",
    "# print(diferenca_livros_priori.info())"
   ]
  },
  {
   "cell_type": "code",
   "execution_count": null,
   "id": "b821115f",
   "metadata": {},
   "outputs": [],
   "source": []
  }
 ],
 "metadata": {
  "kernelspec": {
   "display_name": "Python 3",
   "language": "python",
   "name": "python3"
  },
  "language_info": {
   "codemirror_mode": {
    "name": "ipython",
    "version": 3
   },
   "file_extension": ".py",
   "mimetype": "text/x-python",
   "name": "python",
   "nbconvert_exporter": "python",
   "pygments_lexer": "ipython3",
   "version": "3.8.8"
  }
 },
 "nbformat": 4,
 "nbformat_minor": 5
}
