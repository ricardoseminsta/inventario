{
 "cells": [
  {
   "cell_type": "markdown",
   "id": "5330105f",
   "metadata": {},
   "source": [
    "        Tratando dados do levantamento físico e banco de dados Suap"
   ]
  },
  {
   "cell_type": "code",
   "execution_count": 5,
   "id": "66f0a51f",
   "metadata": {},
   "outputs": [],
   "source": [
    "import pandas as pd\n",
    "\n",
    "#total geral = 10061; total livros = 4706; total geral sem livros = 5355\n",
    "\n",
    "suap = pd.read_excel('suap.xlsx')\n",
    "suap = suap[['NUMERO', 'ED', 'DESCRICAO', 'CARGA ATUAL', 'SALA']]\n",
    "# print('suap info')\n",
    "# display(suap.info())\n",
    "\n",
    "priori= pd.read_excel('priori.xlsx')\n",
    "\n",
    "\"\"\"priori_parcial = pd.read_excel('prioriparcial.xlsx')\n",
    "priori_parcial = priori_parcial.rename(columns={'N° Ativo': 'NUMERO', 'Nome do custo': 'ED_priori', 'Descrição': 'DESCRICAO_priori',\n",
    "                               'Nome Local': 'SALA_priori'})\n",
    "priori_parcial = priori_parcial.drop(columns=['Estado do bem'])\n",
    "display(priori_parcial.info())\n",
    "priori_parcial = priori_parcial[['NUMERO', 'ED_priori', 'DESCRICAO_priori', 'SALA_priori']]\"\"\"\n",
    "\n",
    "priori = priori.rename(columns={'N° Ativo': 'NUMERO', 'Nome do custo': 'ED_priori', 'Descrição': 'DESCRICAO_priori',\n",
    "                               'Nome Local': 'SALA_priori'})\n",
    "priori = priori.drop(columns=['Estado do bem'])\n",
    "# print('priori completo info')\n",
    "# display(priori.info())\n",
    "\n",
    "# priori_total = pd.concat([priori, priori_parcial])\n",
    "# priori_total = priori_total.drop_duplicates()\n",
    "\n",
    "# display(priori_total.info())\n",
    "\n",
    "priori_livros = priori[priori['ED_priori'].str.contains('449052-18')]\n",
    "# print('priori livros info')\n",
    "# display(priori_livros.info())\n",
    "\n",
    "\n",
    "\n",
    "priori = priori[priori['ED_priori'].str.contains('449052-18')==False]\n",
    "# print('priori sem livros info')\n",
    "# display(priori.info())\n"
   ]
  },
  {
   "cell_type": "code",
   "execution_count": 6,
   "id": "4fb0e8ff",
   "metadata": {},
   "outputs": [],
   "source": [
    "livros1 = pd.read_table(\"parte 1 biblio.xls\")\n",
    "# display(livros1.info())\n",
    "livros2 = pd.read_table(\"parte 2 biblio.xls\")\n",
    "# display(livros2.info())\n",
    "livros3 = pd.read_table(\"parte 3 biblio.xls\")\n",
    "# display(livros3.info())\n",
    "livros4 = pd.read_table(\"parte 4 biblio.xls\")\n",
    "livros5 = pd.read_table(\"parte 5 biblio.xls\")\n",
    "\n",
    "suap_livros = pd.concat([livros1, livros2, livros3, livros4, livros5])\n",
    "suap_livros = suap_livros[['NUMERO', 'DESCRICAO', 'CARGA ATUAL']]\n",
    "# display(suap_livros.info())"
   ]
  },
  {
   "cell_type": "code",
   "execution_count": 7,
   "id": "ad3984ad",
   "metadata": {
    "scrolled": false
   },
   "outputs": [],
   "source": [
    "diferenca = pd.merge(suap, priori, on='NUMERO', how='outer', indicator=True)\n",
    "diferenca.to_excel('diferenca_total.xlsx', index=False)\n",
    "diferenca_SUAP = diferenca[diferenca['_merge'].str.contains('left_only')]\n",
    "# print(diferenca_SUAP.info())\n",
    "diferenca_SUAP.to_excel(\"diferenca_suap.xlsx\", index=False)"
   ]
  },
  {
   "cell_type": "code",
   "execution_count": 8,
   "id": "17eb1b4d",
   "metadata": {},
   "outputs": [],
   "source": [
    "diferenca_livros = pd.merge(suap_livros, priori_livros, on='NUMERO', how='outer', indicator=True)\n",
    "# display(diferenca_livros)\n",
    "diferenca_livros.to_excel('diferenca_livros.xlsx', index=False)\n",
    "\n",
    "diferenca_livros_suap = diferenca_livros[diferenca_livros['_merge'].str.contains('left_only')]\n",
    "# print(diferenca_livros_suap.info())\n",
    "\n",
    "diferenca_livros_priori = diferenca_livros[diferenca_livros['_merge'].str.contains('right_only')]\n",
    "# print(diferenca_livros_priori.info())"
   ]
  },
  {
   "cell_type": "markdown",
   "id": "d743a123",
   "metadata": {},
   "source": [
    "## Gerando Grafícos dos resultados do inventário"
   ]
  },
  {
   "cell_type": "code",
   "execution_count": 21,
   "id": "fe9317c8",
   "metadata": {},
   "outputs": [
    {
     "data": {
      "image/png": "[encoded data removed]",
      "text/plain": [
       "<Figure size 432x288 with 1 Axes>"
      ]
     },
     "metadata": {
      "needs_background": "light"
     },
     "output_type": "display_data"
    }
   ],
   "source": [
    "import matplotlib.pyplot as plt\n",
    "import numpy as np\n",
    "\n",
    "\n",
    "labels = ['levantamento do SUAP', 'levantamento da Pirori']\n",
    "tam = [500, 400]\n",
    "width = 0.35\n",
    "\n",
    "plt.bar(labels, tam, width)\n",
    "plt.title('Levantamento Suap VS Levantamento Priori')\n",
    "plt.ylabel('Tombamentos Levantados')\n",
    "\n",
    "\n",
    "plt.show()"
   ]
  },
  {
   "cell_type": "code",
   "execution_count": null,
   "id": "897be435",
   "metadata": {},
   "outputs": [],
   "source": []
  }
 ],
 "metadata": {
  "kernelspec": {
   "display_name": "Python 3",
   "language": "python",
   "name": "python3"
  },
  "language_info": {
   "codemirror_mode": {
    "name": "ipython",
    "version": 3
   },
   "file_extension": ".py",
   "mimetype": "text/x-python",
   "name": "python",
   "nbconvert_exporter": "python",
   "pygments_lexer": "ipython3",
   "version": "3.8.8"
  }
 },
 "nbformat": 4,
 "nbformat_minor": 5
}
