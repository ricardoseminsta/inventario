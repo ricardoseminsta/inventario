{
 "cells": [
  {
   "cell_type": "markdown",
   "id": "5330105f",
   "metadata": {},
   "source": [
    "# Tratando dados do levantamento físico e banco de dados Suap"
   ]
  },
  {
   "cell_type": "code",
   "execution_count": 10,
   "id": "66f0a51f",
   "metadata": {},
   "outputs": [],
   "source": [
    "import pandas as pd\n",
    "\n",
    "#total geral = 10044; total livros = 4706; total geral sem livros = 5355\n",
    "\n",
    "suap = pd.read_excel('suap.xlsx')\n",
    "# print('suap info')\n",
    "# display(suap.info())\n",
    "\n",
    "priori= pd.read_excel('priori_completo.xlsx')\n",
    "\n",
    "# capturando segunda planilha e removendo coluna observação\n",
    "priori2 = pd.read_excel('priori_completo.xlsx', sheet_name=1)\n",
    "priori2 = priori2.drop(columns='Observação')\n",
    "\n",
    "# juntando planilhas\n",
    "priori = pd.concat([priori, priori2])\n",
    "\n",
    "priori_ED = priori['C. Custo'].drop_duplicates()\n",
    "priori_ED = priori_ED.drop([6606, 6607])\n",
    "# IFPE449052-99 IFPE449052-87 elementos de despesa dropados\n",
    "\n",
    "priori_ED = priori_ED.sort_values(ascending=True)\n",
    "\n",
    "# display(priori.info())\n",
    "\n",
    "\n",
    "# priori_livros = priori[priori['ED_priori'].str.contains('449052-18')]\n",
    "# priori = priori[priori['ED_priori'].str.contains('449052-18')==False]\n",
    "# display(priori.info())\n"
   ]
  },
  {
   "cell_type": "code",
   "execution_count": 12,
   "id": "4fb0e8ff",
   "metadata": {},
   "outputs": [],
   "source": [
    "livros1 = pd.read_table(\"parte 1 biblio.xls\")\n",
    "livros2 = pd.read_table(\"parte 2 biblio.xls\")\n",
    "livros3 = pd.read_table(\"parte 3 biblio.xls\")\n",
    "livros4 = pd.read_table(\"parte 4 biblio.xls\")\n",
    "livros5 = pd.read_table(\"parte 5 biblio.xls\")\n",
    "\n",
    "suap_livros = pd.concat([livros1, livros2, livros3, livros4, livros5])\n",
    "\n",
    "suap_total = pd.concat([suap, suap_livros])\n",
    "suap_total['DATA DA ENTRADA'] = pd.to_datetime(suap_total['DATA DA ENTRADA'])\n",
    "# dropando itens com entrada após abril 2021\n",
    "suap_total = suap_total[suap_total['DATA DA ENTRADA'] < '2021-05-01']\n",
    "# print(suap_total.info())\n",
    "# dropando itens levantados virtualmento pela priori \n",
    "# suap_mod = suap_total[suap_total['DESCRICAO'].str.contains('MÓDULO DIDÁTICO,')]\n",
    "\n",
    "lista_drop = ['MÓDULO DIDÁTICO,', 'PLACA DE GESSO ACARTONADO', 'PORTA PARA DIVISÓRIA', 'Conjunto de guarda corpo medindo', \n",
    "             'PAR de corrimão em ferro', 'COBERTURA LEVE', 'KIT SALA MODULAR', 'CADEIRA ESCOLAR EM RESINA', \n",
    "             'CARTEIRA ESCOLAR - EM RESINA', 'CADEIRA PLASTICA UNIVERSAL',\n",
    "             'CADEIRA ESCOLAR', 'CADEIRA COMUM. CADEIRA DE PLÁSTICO', 'MESA QUADRADA DE PLÁSTICO', \n",
    "             'POLTRONA PRANCHETA EM RESINA']\n",
    "\n",
    "\n",
    "\n",
    "suap_ED = suap_total['ED'].drop_duplicates()\n",
    "suap_ED = suap_ED.sort_values(ascending=True)\n",
    "\n",
    "# print(len(suap_ED))\n"
   ]
  },
  {
   "cell_type": "code",
   "execution_count": 13,
   "id": "a9d4114c",
   "metadata": {},
   "outputs": [],
   "source": [
    "def dropar_descricao(data_frame, coluna, lista):\n",
    "\n",
    "    for item in lista:\n",
    "#         data_drop = data_frame[data_frame[coluna].str.contains(item)]\n",
    "        data_frame = data_frame[data_frame[coluna].str.contains(item)==False]\n",
    "#         print(f'{item} - {len(data_drop)}')\n",
    "    return data_frame\n",
    "\n",
    "priori = dropar_descricao(priori, 'Descrição', lista_drop)\n",
    "suap_total = dropar_descricao(suap_total, 'DESCRICAO', lista_drop)\n",
    "\n",
    "# print(suap_total.info())"
   ]
  },
  {
   "cell_type": "code",
   "execution_count": 9,
   "id": "ad3984ad",
   "metadata": {
    "scrolled": false
   },
   "outputs": [
    {
     "name": "stdout",
     "output_type": "stream",
     "text": [
      "<class 'pandas.core.frame.DataFrame'>\n",
      "Int64Index: 8676 entries, 0 to 61\n",
      "Data columns (total 4 columns):\n",
      " #   Column            Non-Null Count  Dtype \n",
      "---  ------            --------------  ----- \n",
      " 0   NUMERO            8676 non-null   int64 \n",
      " 1   SALA_priori       8676 non-null   object\n",
      " 2   DESCRICAO_priori  8676 non-null   object\n",
      " 3   ED_priori         8676 non-null   object\n",
      "dtypes: int64(1), object(3)\n",
      "memory usage: 338.9+ KB\n"
     ]
    },
    {
     "data": {
      "text/plain": [
       "None"
      ]
     },
     "metadata": {},
     "output_type": "display_data"
    },
    {
     "name": "stdout",
     "output_type": "stream",
     "text": [
      "<class 'pandas.core.frame.DataFrame'>\n",
      "Int64Index: 8293 entries, 0 to 688\n",
      "Data columns (total 5 columns):\n",
      " #   Column       Non-Null Count  Dtype \n",
      "---  ------       --------------  ----- \n",
      " 0   NUMERO       8293 non-null   int64 \n",
      " 1   SALA         8293 non-null   object\n",
      " 2   DESCRICAO    8293 non-null   object\n",
      " 3   CARGA ATUAL  8293 non-null   object\n",
      " 4   ED           8293 non-null   object\n",
      "dtypes: int64(1), object(4)\n",
      "memory usage: 388.7+ KB\n"
     ]
    },
    {
     "data": {
      "text/plain": [
       "None"
      ]
     },
     "metadata": {},
     "output_type": "display_data"
    }
   ],
   "source": [
    "suap_merge = suap_total[['NUMERO', 'SALA', 'DESCRICAO', 'CARGA ATUAL', 'ED']]\n",
    "priori_merge = priori[['Nr. Ativo', 'Nome Local', 'Descrição', 'C. Custo']]\n",
    "priori_merge = priori_merge.rename(columns={'Nr. Ativo': 'NUMERO', 'Nome Local': 'SALA_priori', 'Descrição': 'DESCRICAO_priori', 'C. Custo': 'ED_priori'})\n",
    "display(priori_merge.info())\n",
    "display(suap_merge.info())\n",
    "\n",
    "diferenca = pd.merge(suap_merge, priori_merge, on='NUMERO', how='outer', indicator=True)\n",
    "\n",
    "diferenca.to_excel('diferenca_total.xlsx', index=False)"
   ]
  },
  {
   "cell_type": "code",
   "execution_count": 9,
   "id": "17eb1b4d",
   "metadata": {},
   "outputs": [
    {
     "ename": "NameError",
     "evalue": "name 'priori_livros' is not defined",
     "output_type": "error",
     "traceback": [
      "\u001b[1;31m---------------------------------------------------------------------------\u001b[0m",
      "\u001b[1;31mNameError\u001b[0m                                 Traceback (most recent call last)",
      "\u001b[1;32m<ipython-input-9-a2bcc3580f07>\u001b[0m in \u001b[0;36m<module>\u001b[1;34m\u001b[0m\n\u001b[1;32m----> 1\u001b[1;33m \u001b[0mdiferenca_livros\u001b[0m \u001b[1;33m=\u001b[0m \u001b[0mpd\u001b[0m\u001b[1;33m.\u001b[0m\u001b[0mmerge\u001b[0m\u001b[1;33m(\u001b[0m\u001b[0msuap_livros\u001b[0m\u001b[1;33m,\u001b[0m \u001b[0mpriori_livros\u001b[0m\u001b[1;33m,\u001b[0m \u001b[0mon\u001b[0m\u001b[1;33m=\u001b[0m\u001b[1;34m'NUMERO'\u001b[0m\u001b[1;33m,\u001b[0m \u001b[0mhow\u001b[0m\u001b[1;33m=\u001b[0m\u001b[1;34m'outer'\u001b[0m\u001b[1;33m,\u001b[0m \u001b[0mindicator\u001b[0m\u001b[1;33m=\u001b[0m\u001b[1;32mTrue\u001b[0m\u001b[1;33m)\u001b[0m\u001b[1;33m\u001b[0m\u001b[1;33m\u001b[0m\u001b[0m\n\u001b[0m\u001b[0;32m      2\u001b[0m \u001b[0mdiferenca_livros\u001b[0m\u001b[1;33m.\u001b[0m\u001b[0mto_excel\u001b[0m\u001b[1;33m(\u001b[0m\u001b[1;34m'diferenca_livros.xlsx'\u001b[0m\u001b[1;33m,\u001b[0m \u001b[0mindex\u001b[0m\u001b[1;33m=\u001b[0m\u001b[1;32mFalse\u001b[0m\u001b[1;33m)\u001b[0m\u001b[1;33m\u001b[0m\u001b[1;33m\u001b[0m\u001b[0m\n\u001b[0;32m      3\u001b[0m \u001b[1;33m\u001b[0m\u001b[0m\n\u001b[0;32m      4\u001b[0m \u001b[0mdiferenca_livros_suap\u001b[0m \u001b[1;33m=\u001b[0m \u001b[0mdiferenca_livros\u001b[0m\u001b[1;33m[\u001b[0m\u001b[0mdiferenca_livros\u001b[0m\u001b[1;33m[\u001b[0m\u001b[1;34m'_merge'\u001b[0m\u001b[1;33m]\u001b[0m\u001b[1;33m.\u001b[0m\u001b[0mstr\u001b[0m\u001b[1;33m.\u001b[0m\u001b[0mcontains\u001b[0m\u001b[1;33m(\u001b[0m\u001b[1;34m'left_only'\u001b[0m\u001b[1;33m)\u001b[0m\u001b[1;33m]\u001b[0m\u001b[1;33m\u001b[0m\u001b[1;33m\u001b[0m\u001b[0m\n\u001b[0;32m      5\u001b[0m \u001b[0mdiferenca_livros_priori\u001b[0m \u001b[1;33m=\u001b[0m \u001b[0mdiferenca_livros\u001b[0m\u001b[1;33m[\u001b[0m\u001b[0mdiferenca_livros\u001b[0m\u001b[1;33m[\u001b[0m\u001b[1;34m'_merge'\u001b[0m\u001b[1;33m]\u001b[0m\u001b[1;33m.\u001b[0m\u001b[0mstr\u001b[0m\u001b[1;33m.\u001b[0m\u001b[0mcontains\u001b[0m\u001b[1;33m(\u001b[0m\u001b[1;34m'right_only'\u001b[0m\u001b[1;33m)\u001b[0m\u001b[1;33m]\u001b[0m\u001b[1;33m\u001b[0m\u001b[1;33m\u001b[0m\u001b[0m\n",
      "\u001b[1;31mNameError\u001b[0m: name 'priori_livros' is not defined"
     ]
    }
   ],
   "source": []
  }
 ],
 "metadata": {
  "kernelspec": {
   "display_name": "Python 3",
   "language": "python",
   "name": "python3"
  },
  "language_info": {
   "codemirror_mode": {
    "name": "ipython",
    "version": 3
   },
   "file_extension": ".py",
   "mimetype": "text/x-python",
   "name": "python",
   "nbconvert_exporter": "python",
   "pygments_lexer": "ipython3",
   "version": "3.8.8"
  }
 },
 "nbformat": 4,
 "nbformat_minor": 5
}
