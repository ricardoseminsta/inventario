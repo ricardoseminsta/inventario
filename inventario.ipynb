{
 "cells": [
  {
   "cell_type": "markdown",
   "id": "5330105f",
   "metadata": {},
   "source": [
    "        Tratando dados do levantamento físico e banco de dados Suap"
   ]
  },
  {
   "cell_type": "code",
   "execution_count": 27,
   "id": "66f0a51f",
   "metadata": {},
   "outputs": [
    {
     "name": "stdout",
     "output_type": "stream",
     "text": [
      "20\n"
     ]
    },
    {
     "data": {
      "text/plain": [
       "0       IFPE449052-34\n",
       "1       IFPE449052-33\n",
       "2       IFPE449052-42\n",
       "4       IFPE449052-06\n",
       "5       IFPE449052-35\n",
       "7       IFPE449052-51\n",
       "12      IFPE449052-39\n",
       "18      IFPE449052-24\n",
       "31      IFPE449052-04\n",
       "69      IFPE449052-12\n",
       "70      IFPE449052-30\n",
       "71      IFPE449052-36\n",
       "100     IFPE449052-08\n",
       "104     IFPE449052-41\n",
       "240     IFPE449052-18\n",
       "432     IFPE449040-05\n",
       "851     IFPE449052-10\n",
       "5943    IFPE449052-28\n",
       "6242    IFPE449052-40\n",
       "8425    IFPE449052-52\n",
       "Name: C. Custo, dtype: object"
      ]
     },
     "metadata": {},
     "output_type": "display_data"
    }
   ],
   "source": [
    "import pandas as pd\n",
    "\n",
    "#total geral = 10044; total livros = 4706; total geral sem livros = 5355\n",
    "\n",
    "suap = pd.read_excel('suap.xlsx')\n",
    "# suap = suap[['NUMERO', 'ED', 'DESCRICAO', 'CARGA ATUAL', 'SALA']]\n",
    "# print('suap info')\n",
    "# display(suap.info())\n",
    "\n",
    "priori= pd.read_excel('priori_completo.xlsx')\n",
    "# priori =  priori.rename(columns={'N° Ativo': 'NUMERO', 'Nome do custo': 'ED_priori', 'Descrição': 'DESCRICAO_priori',\n",
    "#                                'Nome Local': 'SALA_priori'})\n",
    "priori_ED = priori['C. Custo'].drop_duplicates()\n",
    "priori_ED = priori_ED.drop([6606, 6607])\n",
    "print(len(priori_ED))\n",
    "display((priori_ED))\n",
    "\n",
    "# IFPE449052-99 IFPE449052-87 elementos de despesa dropados\n",
    "# display(priori_total.info())\n",
    "\n",
    "# priori_livros = priori[priori['ED_priori'].str.contains('449052-18')]\n",
    "\n",
    "# priori = priori[priori['ED_priori'].str.contains('449052-18')==False]\n",
    "# display(priori.info())\n"
   ]
  },
  {
   "cell_type": "code",
   "execution_count": 20,
   "id": "4fb0e8ff",
   "metadata": {},
   "outputs": [
    {
     "name": "stdout",
     "output_type": "stream",
     "text": [
      "20\n"
     ]
    },
    {
     "data": {
      "text/plain": [
       "0       449040-05\n",
       "83      449052-04\n",
       "246     449052-06\n",
       "275     449052-08\n",
       "386     449052-10\n",
       "391     449052-12\n",
       "503     449052-24\n",
       "529     449052-28\n",
       "653     449052-30\n",
       "785     449052-33\n",
       "830     449052-34\n",
       "1168    449052-35\n",
       "1731    449052-36\n",
       "1746    449052-39\n",
       "2115    449052-40\n",
       "2116    449052-41\n",
       "2574    449052-51\n",
       "2657    449052-52\n",
       "2662    449052-42\n",
       "0       449052-18\n",
       "Name: ED, dtype: object"
      ]
     },
     "metadata": {},
     "output_type": "display_data"
    }
   ],
   "source": [
    "livros1 = pd.read_table(\"parte 1 biblio.xls\")\n",
    "# display(livros1.info())\n",
    "livros2 = pd.read_table(\"parte 2 biblio.xls\")\n",
    "# display(livros2.info())\n",
    "livros3 = pd.read_table(\"parte 3 biblio.xls\")\n",
    "# display(livros3.info())\n",
    "livros4 = pd.read_table(\"parte 4 biblio.xls\")\n",
    "livros5 = pd.read_table(\"parte 5 biblio.xls\")\n",
    "\n",
    "suap_livros = pd.concat([livros1, livros2, livros3, livros4, livros5])\n",
    "# suap_livros = suap_livros[['NUMERO', 'DESCRICAO', 'CARGA ATUAL']]\n",
    "# display(suap_livros.info())\n",
    "suap = pd.concat([suap, suap_livros])\n",
    "# display(suap.info())\n",
    "suap_ED = suap['ED'].drop_duplicates()\n",
    "\n",
    "print(len(suap_ED))\n",
    "display(suap_ED)\n"
   ]
  },
  {
   "cell_type": "code",
   "execution_count": null,
   "id": "ad3984ad",
   "metadata": {
    "scrolled": false
   },
   "outputs": [],
   "source": [
    "diferenca = pd.merge(suap, priori, on='NUMERO', how='outer', indicator=True)\n",
    "diferenca.to_excel('diferenca_total.xlsx', index=False)\n",
    "diferenca_SUAP = diferenca[diferenca['_merge'].str.contains('left_only')]\n",
    "# print(diferenca_SUAP.info())\n",
    "diferenca_SUAP.to_excel(\"diferenca_suap.xlsx\", index=False)"
   ]
  },
  {
   "cell_type": "code",
   "execution_count": null,
   "id": "17eb1b4d",
   "metadata": {},
   "outputs": [],
   "source": [
    "diferenca_livros = pd.merge(suap_livros, priori_livros, on='NUMERO', how='outer', indicator=True)\n",
    "# display(diferenca_livros)\n",
    "diferenca_livros.to_excel('diferenca_livros.xlsx', index=False)\n",
    "\n",
    "diferenca_livros_suap = diferenca_livros[diferenca_livros['_merge'].str.contains('left_only')]\n",
    "# print(diferenca_livros_suap.info())\n",
    "\n",
    "diferenca_livros_priori = diferenca_livros[diferenca_livros['_merge'].str.contains('right_only')]\n",
    "# print(diferenca_livros_priori.info())"
   ]
  },
  {
   "cell_type": "code",
   "execution_count": null,
   "id": "b821115f",
   "metadata": {},
   "outputs": [],
   "source": []
  }
 ],
 "metadata": {
  "kernelspec": {
   "display_name": "Python 3",
   "language": "python",
   "name": "python3"
  },
  "language_info": {
   "codemirror_mode": {
    "name": "ipython",
    "version": 3
   },
   "file_extension": ".py",
   "mimetype": "text/x-python",
   "name": "python",
   "nbconvert_exporter": "python",
   "pygments_lexer": "ipython3",
   "version": "3.8.8"
  }
 },
 "nbformat": 4,
 "nbformat_minor": 5
}
