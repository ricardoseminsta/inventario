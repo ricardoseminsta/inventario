{
 "cells": [
  {
   "cell_type": "markdown",
   "id": "5330105f",
   "metadata": {},
   "source": [
    "        Tratando dados do levantamento físico e banco de dados Suap"
   ]
  },
  {
   "cell_type": "code",
   "execution_count": 57,
   "id": "66f0a51f",
   "metadata": {},
   "outputs": [],
   "source": [
    "import pandas as pd\n",
    "\n",
    "#total geral = 10061; total livros = 4706; total geral sem livros = 5355\n",
    "\n",
    "suap = pd.read_excel('suap.xlsx')\n",
    "suap = suap[['NUMERO', 'ED', 'DESCRICAO', 'CARGA ATUAL', 'SALA']]\n",
    "# print('suap info')\n",
    "# display(suap.info())\n",
    "\n",
    "priori= pd.read_excel('priori.xlsx')\n",
    "priori = priori.rename(columns={'N° Ativo': 'NUMERO', 'Nome do custo': 'ED_priori', 'Descrição': 'DESCRICAO_priori',\n",
    "                               'Nome Local': 'SALA_priori'})\n",
    "# print('priori completo info')\n",
    "# display(priori.info())\n",
    "\n",
    "priori_livros = priori[priori['ED_priori'].str.contains('449052-18')]\n",
    "# print('priori livros info')\n",
    "# display(priori_livros.info())\n",
    "\n",
    "\n",
    "priori = priori.drop(columns=['Local', 'Estado do bem', 'Nome Responsável'])\n",
    "priori = priori[priori['ED_priori'].str.contains('449052-18')==False]\n",
    "# print('priori sem livros info')\n",
    "# display(priori.info())\n"
   ]
  },
  {
   "cell_type": "code",
   "execution_count": 58,
   "id": "18238192",
   "metadata": {},
   "outputs": [],
   "source": [
    "livros1 = pd.read_table(\"parte 1 biblio.xls\")\n",
    "# display(livros1.info())\n",
    "livros2 = pd.read_table(\"parte 2 biblio.xls\")\n",
    "# display(livros2.info())\n",
    "livros3 = pd.read_table(\"parte 3 biblio.xls\")\n",
    "# display(livros3.info())\n",
    "livros4 = pd.read_table(\"parte 4 biblio.xls\")\n",
    "livros5 = pd.read_table(\"parte 5 biblio.xls\")\n",
    "\n",
    "suap_livros = pd.concat([livros1, livros2, livros3, livros4, livros5])\n",
    "suap_livros = suap_livros[['NUMERO', 'DESCRICAO', 'CARGA ATUAL']]\n",
    "# display(suap_livros.info())"
   ]
  },
  {
   "cell_type": "code",
   "execution_count": 59,
   "id": "ad3984ad",
   "metadata": {
    "scrolled": false
   },
   "outputs": [],
   "source": [
    "diferenca = pd.merge(suap, priori, on='NUMERO', how='outer', indicator=True)\n",
    "\n",
    "diferenca_SUAP = diferenca[diferenca['_merge'].str.contains('left_only')]\n",
    "# print(diferenca_SUAP.info())\n",
    "diferenca_SUAP.to_excel(\"diferenca_suap.xlsx\", index=False)"
   ]
  },
  {
   "cell_type": "code",
   "execution_count": 60,
   "id": "17eb1b4d",
   "metadata": {},
   "outputs": [],
   "source": [
    "diferenca_livros = pd.merge(suap_livros, priori_livros, on='NUMERO', how='outer', indicator=True)\n",
    "# display(diferenca_livros)\n",
    "diferenca_livros.to_excel('diferenca_livros.xlsx', index=False)\n",
    "\n",
    "diferenca_livros_suap = diferenca_livros[diferenca_livros['_merge'].str.contains('left_only')]\n",
    "# print(diferenca_livros_suap.info())\n",
    "\n",
    "diferenca_livros_priori = diferenca_livros[diferenca_livros['_merge'].str.contains('right_only')]\n",
    "# print(diferenca_livros_priori.info())"
   ]
  },
  {
   "cell_type": "code",
   "execution_count": null,
   "id": "c3b9901d",
   "metadata": {},
   "outputs": [],
   "source": []
  }
 ],
 "metadata": {
  "kernelspec": {
   "display_name": "Python 3",
   "language": "python",
   "name": "python3"
  },
  "language_info": {
   "codemirror_mode": {
    "name": "ipython",
    "version": 3
   },
   "file_extension": ".py",
   "mimetype": "text/x-python",
   "name": "python",
   "nbconvert_exporter": "python",
   "pygments_lexer": "ipython3",
   "version": "3.8.8"
  }
 },
 "nbformat": 4,
 "nbformat_minor": 5
}
