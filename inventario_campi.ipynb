{
 "cells": [
  {
   "cell_type": "code",
   "execution_count": 1,
   "id": "de383d5b",
   "metadata": {},
   "outputs": [
    {
     "name": "stdout",
     "output_type": "stream",
     "text": [
      "dict_keys(['CAFI.xlsx', 'CBAR.xlsx', 'CBJA.xlsx', 'CGAR.xlsx', 'CPES.xlsx', 'CPLT.xlsx'])\n",
      "dict_values(['AFI - Afogados.xlsx', 'BAR - Barreiros.xlsx', 'BEJ - Belo Jardim.xlsx', 'GAR - Garanhuns.xlsx', 'PES - Pesqueira.xlsx', 'PLT - Paulista.xlsx'])\n"
     ]
    }
   ],
   "source": [
    "import os\n",
    "pasta_campi = 'campi/'\n",
    "lista_campi = []\n",
    "lista_priori = []\n",
    "for diretorios, subpastas, arquivos in os.walk(pasta_campi):\n",
    "    lista_campi = [arquivo for arquivo in arquivos]\n",
    "\n",
    "pasta_priori = 'priori/'\n",
    "for diretorios, subpastas, arquivos in os.walk(pasta_priori):\n",
    "    lista_priori = [arquivo for arquivo in arquivos]\n",
    "    \n",
    "# print(lista_campi)\n",
    "# print(lista_priori)\n",
    "\n",
    "dicionario = {\n",
    "    'CAFI.xlsx': 'AFI - Afogados.xlsx',\n",
    "    'CBAR.xlsx': 'BAR - Barreiros.xlsx',\n",
    "    'CBJA.xlsx': 'BEJ - Belo Jardim.xlsx',\n",
    "    'CGAR.xlsx': 'GAR - Garanhuns.xlsx',\n",
    "    'CPES.xlsx': 'PES - Pesqueira.xlsx',\n",
    "    'CPLT.xlsx': 'PLT - Paulista.xlsx',\n",
    "}\n",
    "\n",
    "dicionarioum = {\n",
    "    'CAFI.xlsx': 'AFI - Afogados.xlsx',\n",
    "}\n",
    "\n",
    "print(dicionario.keys())\n",
    "print(dicionario.values())"
   ]
  },
  {
   "cell_type": "code",
   "execution_count": 2,
   "id": "41f9b8a9",
   "metadata": {
    "scrolled": false
   },
   "outputs": [],
   "source": [
    "import pandas as pd\n",
    "from datetime import datetime, timezone\n",
    "\n",
    "def montar_consolidacao(dic):\n",
    "\n",
    "    for key, value in  dic.items():\n",
    "        \n",
    "        campus = pd.read_excel(f'campi/{key}')\n",
    "\n",
    "        #converte pra date utilizando o timezone utc=False não roda\n",
    "        campus['data_entrada'] = pd.to_datetime(campus['data_entrada'], utc=True)\n",
    "        # remove a timezone deixando so a data mas vira type obect novamente\n",
    "        campus['data_entrada'] = campus['data_entrada'].dt.date\n",
    "        # converte em date novamente agora sem o timezone\n",
    "        campus['data_entrada'] = pd.to_datetime(campus['data_entrada'])\n",
    "\n",
    "        campus = campus[campus['data_entrada'] < '2021-05-01']\n",
    "        # campus['valor'] = pd.to_numeric(campus['valor'])\n",
    "\n",
    "        # display(campus.info())\n",
    "        campus = campus[['numero', 'categoria_codigo', 'descricao', 'data_entrada']]\n",
    "#         display(campus)\n",
    "\n",
    "        priori = pd.read_excel(f'priori/{value}')\n",
    "        # display(priori)\n",
    "        priori = priori[['N° Ativo', 'Nome do custo', 'Descrição']]\n",
    "        priori = priori.rename(columns={'N° Ativo': 'numero'})\n",
    "#         display(priori)\n",
    "        \n",
    "        compara = pd.merge(campus, priori, on='numero', how='outer', indicator=True)\n",
    "        compara.to_excel(f'consolidacao/cosolidacao_{key}', index=False)"
   ]
  },
  {
   "cell_type": "code",
   "execution_count": 10,
   "id": "7dc7fdf4",
   "metadata": {},
   "outputs": [],
   "source": [
    "def contar_planilhas(dic):\n",
    "\n",
    "    df_quant = pd.DataFrame()\n",
    "    nome_campi = []\n",
    "    lista_suap = []\n",
    "    lista_priori = []\n",
    "\n",
    "    for key, value in  dic.items():\n",
    "        \n",
    "        \n",
    "        campus = pd.read_excel(f'campi/{key}')\n",
    "        \n",
    "        conta_campus = len(campus)\n",
    "        lista_suap.append(conta_campus)\n",
    "        nome_campi.append(key)\n",
    "        \n",
    "        priori = pd.read_excel(f'priori/{value}')\n",
    "        conta_priori = len(priori)\n",
    "        lista_priori.append(conta_priori)\n",
    "\n",
    "    df_quant['Nome'] = nome_campi\n",
    "    df_quant['Nome'] = df_quant['Nome'].str[0:4]\n",
    "    df_quant['Suap'] = lista_suap\n",
    "    df_quant['Priori'] = lista_priori\n",
    "#     display(df_quant)\n",
    "    df_quant.to_excel('quantidades.xlsx', index=False)"
   ]
  },
  {
   "cell_type": "code",
   "execution_count": 11,
   "id": "7474b501",
   "metadata": {
    "scrolled": false
   },
   "outputs": [],
   "source": [
    "# montar_consolidacao(dicionarioum)\n",
    "contar_planilhas(dicionario)"
   ]
  },
  {
   "cell_type": "code",
   "execution_count": null,
   "id": "6ca00377",
   "metadata": {},
   "outputs": [],
   "source": []
  }
 ],
 "metadata": {
  "kernelspec": {
   "display_name": "Python 3",
   "language": "python",
   "name": "python3"
  },
  "language_info": {
   "codemirror_mode": {
    "name": "ipython",
    "version": 3
   },
   "file_extension": ".py",
   "mimetype": "text/x-python",
   "name": "python",
   "nbconvert_exporter": "python",
   "pygments_lexer": "ipython3",
   "version": "3.8.8"
  }
 },
 "nbformat": 4,
 "nbformat_minor": 5
}
