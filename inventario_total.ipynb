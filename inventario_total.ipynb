{
 "cells": [
  {
   "cell_type": "code",
   "execution_count": 3,
   "id": "038c8b07",
   "metadata": {},
   "outputs": [
    {
     "name": "stdout",
     "output_type": "stream",
     "text": [
      "0          CREC\n",
      "1           NaN\n",
      "2        REIFPE\n",
      "30         CBAR\n",
      "32         CAFI\n",
      "53         CABL\n",
      "98         CPLT\n",
      "151        CPES\n",
      "426        CIPJ\n",
      "825        CCAR\n",
      "3242       COLI\n",
      "3933       CIGR\n",
      "9432       CVSA\n",
      "14623      CJBG\n",
      "16927      CPMR\n",
      "21918      CCSA\n",
      "30916      CGAR\n",
      "34761      CBJA\n",
      "Name: campus_da_carga, dtype: object\n",
      "<class 'pandas.core.frame.DataFrame'>\n",
      "Int64Index: 9884 entries, 32 to 258537\n",
      "Data columns (total 19 columns):\n",
      " #   Column                 Non-Null Count  Dtype \n",
      "---  ------                 --------------  ----- \n",
      " 0   id                     9884 non-null   int64 \n",
      " 1   numero                 9884 non-null   int64 \n",
      " 2   categoria_codigo       9884 non-null   object\n",
      " 3   categoria_nome         9884 non-null   object\n",
      " 4   conta_contabil_codigo  9884 non-null   int64 \n",
      " 5   conta_contabil         9884 non-null   object\n",
      " 6   status                 9884 non-null   object\n",
      " 7   numeroserie            9 non-null      object\n",
      " 8   descricao              9884 non-null   object\n",
      " 9   sala                   8385 non-null   object\n",
      " 10  sala_predio            8385 non-null   object\n",
      " 11  data_entrada           9884 non-null   object\n",
      " 12  data_da_carga          9884 non-null   object\n",
      " 13  responsavel_atual      9884 non-null   object\n",
      " 14  resposavel_setor       9884 non-null   object\n",
      " 15  campus_da_carga        9884 non-null   object\n",
      " 16  nota_fiscal            9843 non-null   object\n",
      " 17  fornecedor_entrada     9884 non-null   object\n",
      " 18  valor                  9884 non-null   object\n",
      "dtypes: int64(3), object(16)\n",
      "memory usage: 1.5+ MB\n",
      "None\n"
     ]
    }
   ],
   "source": [
    "import pandas as pd\n",
    "\n",
    "suap = pd.read_excel(\"Inventário 01_10_2021.xlsx\")\n",
    "suap_cafi = suap[suap['campus_da_carga'] == 'CAFI']\n",
    "\n",
    "lista_campi = suap['campus_da_carga'].drop_duplicates()\n",
    "print(lista_campi)\n",
    "print(suap_cafi.info())\n"
   ]
  },
  {
   "cell_type": "code",
   "execution_count": 9,
   "id": "08f170cf",
   "metadata": {},
   "outputs": [
    {
     "name": "stdout",
     "output_type": "stream",
     "text": [
      "0       CREC\n",
      "1        NaN\n",
      "2     REIFPE\n",
      "3       CBAR\n",
      "4       CAFI\n",
      "5       CABL\n",
      "6       CPLT\n",
      "7       CPES\n",
      "8       CIPJ\n",
      "9       CCAR\n",
      "10      COLI\n",
      "11      CIGR\n",
      "12      CVSA\n",
      "13      CJBG\n",
      "14      CPMR\n",
      "15      CCSA\n",
      "16      CGAR\n",
      "17      CBJA\n",
      "Name: campus_da_carga, dtype: object\n"
     ]
    }
   ],
   "source": [
    "lista_campi.index = [x for x in range(0, len(lista_campi))]\n",
    "print(lista_campi)\n",
    "\n",
    "# lista_campi.to_excel(f'campis/{lista_campi[0]}.xlsx')\n",
    "for campi in lista_campi:\n",
    "    campus = suap[suap['campus_da_carga'] == str(campi)]\n",
    "    campus.to_excel(f'campi/{campi}.xlsx')"
   ]
  },
  {
   "cell_type": "code",
   "execution_count": null,
   "id": "813831bf",
   "metadata": {},
   "outputs": [],
   "source": []
  },
  {
   "cell_type": "code",
   "execution_count": null,
   "id": "c6458026",
   "metadata": {},
   "outputs": [],
   "source": []
  }
 ],
 "metadata": {
  "kernelspec": {
   "display_name": "Python 3",
   "language": "python",
   "name": "python3"
  },
  "language_info": {
   "codemirror_mode": {
    "name": "ipython",
    "version": 3
   },
   "file_extension": ".py",
   "mimetype": "text/x-python",
   "name": "python",
   "nbconvert_exporter": "python",
   "pygments_lexer": "ipython3",
   "version": "3.8.8"
  }
 },
 "nbformat": 4,
 "nbformat_minor": 5
}
